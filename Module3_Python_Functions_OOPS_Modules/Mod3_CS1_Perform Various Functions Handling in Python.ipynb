{
 "cells": [
  {
   "cell_type": "markdown",
   "metadata": {},
   "source": [
    "\n",
    "1.A Robot moves in a Plane starting from the origin point (0,0). \n",
    "\n",
    "The robot can move toward UP, DOWN, LEFT, RIGHT. \n",
    "\n",
    "The trace of Robot movement is as given following:UP 5DOWN 3LEFT 3RIGHT 2\n",
    "\n",
    "The numbers after directions are steps. \n",
    "\n",
    "Write a program to compute the distance current position after sequence of movements."
   ]
  },
  {
   "cell_type": "code",
   "execution_count": 1,
   "metadata": {},
   "outputs": [
    {
     "name": "stdout",
     "output_type": "stream",
     "text": [
      "5\n",
      "3\n",
      "3\n",
      "2\n",
      "2.23606797749979\n"
     ]
    }
   ],
   "source": [
    "\n",
    "    \n",
    "import math\n",
    "X=[0,0]\n",
    "up=int(input())\n",
    "down=int(input())\n",
    "left=int(input())\n",
    "right=int(input())\n",
    "X[1]=up-down\n",
    "X[0]=-left+right\n",
    "print(math.sqrt(X[0]**2 + X[1]**2))\n",
    "\n",
    "\n"
   ]
  },
  {
   "cell_type": "code",
   "execution_count": null,
   "metadata": {
    "collapsed": true
   },
   "outputs": [],
   "source": [
    "def SquareRoot(num):\n",
    "    if n < 0:\n",
    "    return\n",
    "  else:\n",
    "    return n**0.5\n",
    "\n",
    "X=[0,0]\n",
    "up=int(input())\n",
    "down=int(input())\n",
    "left=int(input())\n",
    "right=int(input())\n",
    "X[1]=up-down\n",
    "X[0]=-left+right\n",
    "print(SquareRoot(X[0]**2 + X[1]**2))"
   ]
  },
  {
   "cell_type": "code",
   "execution_count": null,
   "metadata": {
    "collapsed": true
   },
   "outputs": [],
   "source": []
  },
  {
   "cell_type": "code",
   "execution_count": null,
   "metadata": {
    "collapsed": true
   },
   "outputs": [],
   "source": []
  },
  {
   "cell_type": "code",
   "execution_count": null,
   "metadata": {
    "collapsed": true
   },
   "outputs": [],
   "source": []
  },
  {
   "cell_type": "markdown",
   "metadata": {},
   "source": [
    "2.Data of XYZ company is stored in sorted list.\n",
    "\n",
    "Write a program for searching specific data from that list.\n",
    "\n",
    "Hint: Use if/elif to deal with conditions.\n",
    "    \n"
   ]
  },
  {
   "cell_type": "code",
   "execution_count": 3,
   "metadata": {},
   "outputs": [
    {
     "name": "stdout",
     "output_type": "stream",
     "text": [
      "4\n",
      "Number is found at 3 position in data\n"
     ]
    }
   ],
   "source": [
    "\n",
    "def binarySearch(data,start,end,x):\n",
    "    if end>=start:\n",
    "        mid=start+(end-1)//2\n",
    "        if(data[mid]==x):\n",
    "            print(\"Number is found at {} position in data\".format(mid))\n",
    "        elif(data[mid]>x):\n",
    "            binarySearch(data, start, mid-1, x)\n",
    "        else:\n",
    "            binarySearch(data, mid + 1, end, x)\n",
    "    else:\n",
    "        print(\"Number is not found\")\n",
    "    \n",
    "\n",
    "\n",
    "data=[1,2,3,4]\n",
    "SearchNumber=int(input())\n",
    "binarySearch(data,0,len(data)-1,SearchNumber)"
   ]
  },
  {
   "cell_type": "code",
   "execution_count": 8,
   "metadata": {},
   "outputs": [
    {
     "name": "stdout",
     "output_type": "stream",
     "text": [
      "3\n",
      "Number is not found\n",
      "Number is not found\n",
      "Number is found\n",
      "Number is not found\n"
     ]
    }
   ],
   "source": [
    "\n",
    "data=[1,2,3,4]\n",
    "SearchNumber=int(input())\n",
    "for i in data:\n",
    "    if i==SearchNumber:\n",
    "        print('Number is found')\n",
    "    else:\n",
    "        print('Number is not found')"
   ]
  },
  {
   "cell_type": "markdown",
   "metadata": {},
   "source": [
    "3.Weather forecasting organization wants to show is it day or night. \n",
    "\n",
    "So, write a program for such organization to findwhether is it dark outside or not.\n",
    "\n",
    "Hint: Use time module.\n",
    "    \n",
    "   "
   ]
  },
  {
   "cell_type": "code",
   "execution_count": 9,
   "metadata": {},
   "outputs": [
    {
     "name": "stdout",
     "output_type": "stream",
     "text": [
      "It is night time\n"
     ]
    }
   ],
   "source": [
    "import time\n",
    "x = time.localtime()\n",
    "if x.tm_hour < 6 or x.tm_hour>18:\n",
    "    print ('It is night time')\n",
    "else:\n",
    "    print ('It is day time')"
   ]
  },
  {
   "cell_type": "markdown",
   "metadata": {},
   "source": [
    " 4.Write a program to find distance between two locations when their latitude and longitudes are given.\n",
    "    \n",
    "    Hint: Use math module.\n",
    "        \n",
    "       "
   ]
  },
  {
   "cell_type": "code",
   "execution_count": 10,
   "metadata": {},
   "outputs": [
    {
     "name": "stdout",
     "output_type": "stream",
     "text": [
      "2.0043678382716137 K.M\n"
     ]
    }
   ],
   "source": [
    "from math import radians, cos, sin, asin, sqrt\n",
    "def distance(lat1, lat2, lon1, lon2):\n",
    "     \n",
    "    lon1 = radians(lon1)\n",
    "    lon2 = radians(lon2)\n",
    "    lat1 = radians(lat1)\n",
    "    lat2 = radians(lat2)\n",
    "      \n",
    "    dlon = lon2 - lon1\n",
    "    dlat = lat2 - lat1\n",
    "    a = sin(dlat / 2)**2 + cos(lat1) * cos(lat2) * sin(dlon / 2)**2\n",
    " \n",
    "    c = 2 * asin(sqrt(a))\n",
    "    \n",
    "    r = 6371\n",
    "    \n",
    "    return(c * r)\n",
    "\n",
    "lat1 = 53.32055555555556\n",
    "lat2 = 53.31861111111111\n",
    "lon1 = -1.7297222222222221\n",
    "lon2 =  -1.6997222222222223\n",
    "print(distance(lat1, lat2, lon1, lon2), \"K.M\")\n",
    "     "
   ]
  },
  {
   "cell_type": "markdown",
   "metadata": {},
   "source": [
    " 5.Design a software for bank system. \n",
    "        \n",
    "        There should be options like cash withdraw, cash credit and change password. \n",
    "        \n",
    "        According to user input, the software should provide required output."
   ]
  },
  {
   "cell_type": "code",
   "execution_count": 11,
   "metadata": {},
   "outputs": [
    {
     "name": "stdout",
     "output_type": "stream",
     "text": [
      "Welcome to AB Bank.Please enter\n",
      "                1 for cash withdraw \n",
      "                2 for cash credit \n",
      "                3 for change password2\n",
      "Credit the cash\n"
     ]
    }
   ],
   "source": [
    "UserInput=int(input('''Welcome to AB Bank.Please enter\n",
    "                1 for cash withdraw \n",
    "                2 for cash credit \n",
    "                3 for change password'''))\n",
    "if UserInput==1:\n",
    "    print(\"Enter the amount to withdraw\")\n",
    "elif UserInput==2:\n",
    "    print(\"Credit the cash\")\n",
    "elif UserInput == 3:\n",
    "    print(\"Create a strong password\")\n",
    "else:\n",
    "    print(\"Invalid input\")\n",
    "    "
   ]
  },
  {
   "cell_type": "markdown",
   "metadata": {
    "collapsed": true
   },
   "source": [
    "6.Write a program which will find all such numbers which are divisible by 7 but are not a multiple of 5, \n",
    "\n",
    "between 2000 and 3200 (both included). \n",
    "\n",
    "The numbers obtained should be printed in acomma-separated sequence on a single line.\n",
    "\n"
   ]
  },
  {
   "cell_type": "code",
   "execution_count": 12,
   "metadata": {},
   "outputs": [
    {
     "name": "stdout",
     "output_type": "stream",
     "text": [
      "[2569, 2373, 2982, 2114, 2779]\n"
     ]
    }
   ],
   "source": [
    "import random\n",
    "print(random.sample([i for i in range(2001,3000) if i%5!=0 and i%7==0], 5))"
   ]
  },
  {
   "cell_type": "markdown",
   "metadata": {
    "collapsed": true
   },
   "source": [
    "\n",
    "7.Write a program which can compute the factorial of a given numbers.\n",
    "Use recursion to find it. \n",
    "Hint: Suppose the following input is supplied to the program:8\n",
    "Then, the output should be:40320\n",
    "            \n",
    "            "
   ]
  },
  {
   "cell_type": "code",
   "execution_count": 13,
   "metadata": {},
   "outputs": [
    {
     "name": "stdout",
     "output_type": "stream",
     "text": [
      "5\n",
      "120\n"
     ]
    }
   ],
   "source": [
    "def factorial(n): \n",
    "    if n == 0:\n",
    "        return 1\n",
    "    return n * factorial(n-1)\n",
    "num = int(input());\n",
    "print(factorial(num))"
   ]
  },
  {
   "cell_type": "markdown",
   "metadata": {
    "collapsed": true
   },
   "source": [
    "8.Write a program that calculates and prints the value according to the given formula:\n",
    "    \n",
    "    Q = Square root of [(2 * C * D)/H]\n",
    "    \n",
    "    Following are the fixed values of C and H: C is 50. H is 30.\n",
    "    \n",
    "    D  is  the  variable  whose  values  should  be input  to  your  program  in  a  comma-separated sequence. \n",
    "        \n",
    "    Example:Let  us  assume  the  following  comma  separated  input  sequence  is  given  to  the program:100,150,180\n",
    "                \n",
    "    The output of the program should be:18,22,24\n",
    "                    \n",
    "                    \n",
    "                  "
   ]
  },
  {
   "cell_type": "code",
   "execution_count": 19,
   "metadata": {},
   "outputs": [
    {
     "name": "stdout",
     "output_type": "stream",
     "text": [
      "Enter elements: 10,20,30\n",
      "[5, 8, 10]\n"
     ]
    }
   ],
   "source": [
    "import math \n",
    "C=50\n",
    "H=30\n",
    "n=input(\"Enter elements: \")\n",
    "l=n.split(',')\n",
    "a=map(lambda x: int(math.sqrt((2*C*int(x))/H)),l)\n",
    "print((list(a)))"
   ]
  },
  {
   "cell_type": "markdown",
   "metadata": {
    "collapsed": true
   },
   "source": [
    "  9.Write a program which takes 2 digits, X,Y as input and generates a 2-dimensional array. \n",
    "    \n",
    "    The element value in the i-th row and j-th column of the array should be i*j.\n",
    "    \n",
    "    Note: i=0,1.., X-1; j=0,1,¡-Y-1.Example:Suppose the following inputs are given to the program:3,5\n",
    "                \n",
    "    Then, the output of the program should be:[[0, 0, 0, 0, 0], [0, 1, 2, 3, 4], [0, 2, 4, 6, 8]] \n"
   ]
  },
  {
   "cell_type": "code",
   "execution_count": 1,
   "metadata": {},
   "outputs": [
    {
     "name": "stdout",
     "output_type": "stream",
     "text": [
      "3\n",
      "5\n",
      "[[0, 0, 0, 0, 0], [0, 1, 2, 3, 4], [0, 2, 4, 6, 8]]\n"
     ]
    }
   ],
   "source": [
    "X=int(input())\n",
    "Y=int(input())\n",
    "arr = [[i*j for j in range(Y)] for i in range(X)]\n",
    "print(arr)"
   ]
  },
  {
   "cell_type": "markdown",
   "metadata": {
    "collapsed": true
   },
   "source": [
    "10.Write a program that accepts a comma separated sequence of words as input and\n",
    "prints the words in a comma-separated sequence after sorting them alphabetically. \n",
    "Suppose the following input is supplied to the program:without,hello,bag,world\n",
    "    Then, the output should be:bag,hello,without,world\n",
    "        \n",
    "       "
   ]
  },
  {
   "cell_type": "code",
   "execution_count": 22,
   "metadata": {},
   "outputs": [
    {
     "name": "stdout",
     "output_type": "stream",
     "text": [
      "Enter elements\"without\",\"hello\",\"bag\",\"world\"\n",
      "['\"bag\"', '\"hello\"', '\"without\"', '\"world\"']\n"
     ]
    }
   ],
   "source": [
    "n=input(\"Enter elements\")\n",
    "l=n.split(\",\")\n",
    "#l=[\"without\",\"hello\",\"bag\",\"world\"]\n",
    "l.sort()\n",
    "print(l)"
   ]
  },
  {
   "cell_type": "markdown",
   "metadata": {
    "collapsed": true
   },
   "source": [
    " 11.Write a program that accepts sequence of lines as input and prints the lines after making all characters\n",
    "    in the sentence capitalized. \n",
    "    Suppose the following inputis supplied to the program:\n",
    "        Hello worldPractice makes perfect\n",
    "        Then, the output should be:HELLO WORLDPRACTICE MAKES PERFECT\n",
    "            \n",
    "         "
   ]
  },
  {
   "cell_type": "code",
   "execution_count": 27,
   "metadata": {},
   "outputs": [
    {
     "name": "stdout",
     "output_type": "stream",
     "text": [
      "hey edureka team\n",
      "how are you\n",
      "when will you send files\n",
      "\n",
      "HEY EDUREKA TEAM\n",
      "HOW ARE YOU\n",
      "WHEN WILL YOU SEND FILES\n"
     ]
    }
   ],
   "source": [
    "lines = []\n",
    "while True:\n",
    "    s = input()\n",
    "    if s:\n",
    "        lines.append(s.upper())\n",
    "    else:\n",
    "        break;\n",
    "for sentence in lines:\n",
    "    print(sentence)"
   ]
  },
  {
   "cell_type": "markdown",
   "metadata": {
    "collapsed": true
   },
   "source": [
    "   12.Write a program that accepts a sequence of whitespace separated words as input and   \n",
    "    prints   the   words   after   removing   all   duplicate   words   and   sorting  \n",
    "    them alphanumerically. \n",
    "    \n",
    "    Suppose the following input is supplied to the program:\n",
    "        hello world and practice makes perfect and hello world again\n",
    "    Then, the output should be:again and hello makes perfect practice world\n",
    "        \n",
    "  "
   ]
  },
  {
   "cell_type": "code",
   "execution_count": 30,
   "metadata": {},
   "outputs": [
    {
     "name": "stdout",
     "output_type": "stream",
     "text": [
      "Enter elementshi hi hi hy\n",
      "['hi', 'hy']\n"
     ]
    }
   ],
   "source": [
    "n=input(\"Enter elements\")\n",
    "l=n.split()\n",
    "#l=[\"without\",\"hello\",\"bag\",\"world\"]\n",
    "a=list(set(l))\n",
    "a.sort()\n",
    "print(a)\n"
   ]
  },
  {
   "cell_type": "markdown",
   "metadata": {
    "collapsed": true
   },
   "source": [
    "      13.Write  a  program  which  accepts  a  sequence  of  comma  separated  4  digit  binary numbers  as  its  input  \n",
    "    and  then  check  whether  they  are  divisible  by  5  or  not. \n",
    "    \n",
    "    The numbers that are divisible by 5 are to be printed in a comma separated sequence.\n",
    "Example:0100,0011,1010,1001Then the output should be:1010\n",
    "        \n",
    "  "
   ]
  },
  {
   "cell_type": "code",
   "execution_count": 26,
   "metadata": {},
   "outputs": [
    {
     "name": "stdout",
     "output_type": "stream",
     "text": [
      "1010\n",
      "10\n"
     ]
    }
   ],
   "source": [
    "list1 = []\n",
    "a=[x for x in input().split(',')]\n",
    "for i in a:\n",
    "    Decimal = int(i, 2)\n",
    "    print(Decimal)\n",
    "    if Decimal%5!=0:\n",
    "        list1+[i]"
   ]
  },
  {
   "cell_type": "markdown",
   "metadata": {
    "collapsed": true
   },
   "source": [
    "14.Write  a  program  that  accepts  a  sentence  and  calculate  the  number  of  upper  case letters and lower case letters.\n",
    "   Suppose the following input is supplied to the program:Hello world!\n",
    "   Then, the output should be:UPPER CASE 1LOWER CASE 9\n",
    "            \n",
    "           \n"
   ]
  },
  {
   "cell_type": "code",
   "execution_count": 24,
   "metadata": {},
   "outputs": [
    {
     "name": "stdout",
     "output_type": "stream",
     "text": [
      "Hello worRld!\n",
      "2 9\n"
     ]
    }
   ],
   "source": [
    "sentence=input()\n",
    "#sentence=\"Hello worRld!\"\n",
    "UpperCase=0\n",
    "LowerCase=0\n",
    "for i in sentence:\n",
    "    if((ord(i)>=97 and ord(i)<=122) or (ord(i)>=65 and ord(i)<=90)):\n",
    "        if i==i.upper():\n",
    "            UpperCase+=1\n",
    "        elif i==i.lower():\n",
    "            LowerCase+=1\n",
    "print(UpperCase,LowerCase)\n"
   ]
  },
  {
   "cell_type": "markdown",
   "metadata": {
    "collapsed": true
   },
   "source": [
    " 15.Give example of fsum and sum function of math library."
   ]
  },
  {
   "cell_type": "code",
   "execution_count": 23,
   "metadata": {},
   "outputs": [
    {
     "name": "stdout",
     "output_type": "stream",
     "text": [
      "150\n",
      "150.0\n"
     ]
    }
   ],
   "source": [
    "import math\n",
    "a = [10, 20, 30, 40, 50]   \n",
    "print(sum(a))\n",
    "a = [10, 20, 30, 40, 50]\n",
    "print(math.fsum(a))\n",
    "#fsum returns value keeping higher floating accuracy"
   ]
  },
  {
   "cell_type": "code",
   "execution_count": null,
   "metadata": {
    "collapsed": true
   },
   "outputs": [],
   "source": [
    "\n"
   ]
  },
  {
   "cell_type": "code",
   "execution_count": null,
   "metadata": {
    "collapsed": true
   },
   "outputs": [],
   "source": []
  },
  {
   "cell_type": "code",
   "execution_count": null,
   "metadata": {
    "collapsed": true
   },
   "outputs": [],
   "source": []
  },
  {
   "cell_type": "code",
   "execution_count": null,
   "metadata": {
    "collapsed": true
   },
   "outputs": [],
   "source": []
  }
 ],
 "metadata": {
  "kernelspec": {
   "display_name": "Python 3 (ipykernel)",
   "language": "python",
   "name": "python3"
  },
  "language_info": {
   "codemirror_mode": {
    "name": "ipython",
    "version": 3
   },
   "file_extension": ".py",
   "mimetype": "text/x-python",
   "name": "python",
   "nbconvert_exporter": "python",
   "pygments_lexer": "ipython3",
   "version": "3.9.7"
  }
 },
 "nbformat": 4,
 "nbformat_minor": 2
}
