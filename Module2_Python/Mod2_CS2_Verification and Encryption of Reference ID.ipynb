{
 "cells": [
  {
   "cell_type": "code",
   "execution_count": null,
   "metadata": {
    "collapsed": true
   },
   "outputs": [],
   "source": [
    "from cryptography.fernet import Fernet\n",
    "def ReferenceIdValidation(ReferenceId):\n",
    "    if len(ReferenceId)!=12:\n",
    "        print(\"ReferenceId should contain atleast 12 digits\")\n",
    "    else:\n",
    "        uppercase='ABCDEFGHIJKLMNOPQRSTUVWXYZ'\n",
    "        lowercase='abcdefghijklmnopqrstuvwxyz'\n",
    "        number='0123456789'\n",
    "        specialchar='~!$#@%^*'\n",
    "        a=b=c=d=0\n",
    "        for i in range(len(ReferenceId)):\n",
    "            if ReferenceId[i] in uppercase:\n",
    "                a+=1\n",
    "            elif ReferenceId[i] in lowercase:\n",
    "                b+=1\n",
    "            elif ReferenceId[i] in number:\n",
    "                c+=1\n",
    "            if ReferenceId[i] in specialchar:\n",
    "                d+=1\n",
    "        if(a>=1 and b>=1 and c>=1 and d>=1):\n",
    "            return 1\n",
    "            #print(\"ReferenceId validation success\")\n",
    "        else:\n",
    "            print('''RefrenceId should have atleast \n",
    "                  1 number \n",
    "                  1 lowercase letter \n",
    "                  1 uppercase letter\n",
    "                  1special character\n",
    "                  12 letters''')\n",
    "def DecryptMessage(a,fernet,EncryptedMessage):\n",
    "    if a==1:\n",
    "        decMessage = fernet.decrypt(EncryptedMessage).decode()\n",
    "        print(\"decrypted string: \", decMessage)\n",
    "    else:\n",
    "        print(\"Thank you and if you wish to see referenceId please enter 1\")\n",
    "def EncryptMessage(RefreenceId):\n",
    "    key = Fernet.generate_key()\n",
    "    fernet = Fernet(key)\n",
    "    EncryptedMessage = fernet.encrypt(ReferenceId.encode())\n",
    "    print(\"encrypted string: \", EncryptedMessage)\n",
    "    return fernet,EncryptedMessage\n",
    "\n",
    "\n",
    "ReferenceId=input()\n",
    "value=ReferenceIdValidation(ReferenceId)\n",
    "if value ==1:\n",
    "    fernet,EncryptedMessage=EncryptMessage(ReferenceId)\n",
    "    print('''Do you want to check the ReferenceId?\n",
    "        Enter 1\n",
    "        Else enter any keyword other than 1''')\n",
    "    a=int(input())\n",
    "    DecryptMessage(a,fernet,EncryptedMessage)\n"
   ]
  },
  {
   "cell_type": "code",
   "execution_count": null,
   "metadata": {
    "collapsed": true
   },
   "outputs": [],
   "source": [
    "import base64\n",
    "# Used for encoding\n",
    "# Take Input from user\n",
    "reference_id = input ('Enter Reference ID: ')\n",
    "if(len(reference_id) != 12):\n",
    "    print(\"Reference ID should be 12 characters\")\n",
    "    # list of characters allowed\n",
    "    allowed_chars = \"ABCDEFGHIJKLMNOPQRSTUVWXYZ\" + \"abcdefghijklmnopqrstuvwxyz\" +\"0123456789\"\n",
    "    is_validated = True\n",
    "    for c in reference_id:\n",
    "        if (c not in allowed_chars):\n",
    "            is_validated = False\n",
    "            break\n",
    "    print(\"Is validated:\", is_validated)\n",
    "    if(not is_validated) :\n",
    "        print(\"Reference ID should contain only number and alphabets\")\n",
    "# Encrypt the Reference ID:\n",
    "reference_id_encrypt = base64.b64encode(reference_id.encode())\n",
    "print(\" Congratulations!!! ReferenceID is encrypted, You are Safe from Hackers:\",reference_id_encrypt )\n",
    "\n"
   ]
  }
 ],
 "metadata": {
  "kernelspec": {
   "display_name": "Python 3 (ipykernel)",
   "language": "python",
   "name": "python3"
  },
  "language_info": {
   "codemirror_mode": {
    "name": "ipython",
    "version": 3
   },
   "file_extension": ".py",
   "mimetype": "text/x-python",
   "name": "python",
   "nbconvert_exporter": "python",
   "pygments_lexer": "ipython3",
   "version": "3.9.7"
  }
 },
 "nbformat": 4,
 "nbformat_minor": 2
}
