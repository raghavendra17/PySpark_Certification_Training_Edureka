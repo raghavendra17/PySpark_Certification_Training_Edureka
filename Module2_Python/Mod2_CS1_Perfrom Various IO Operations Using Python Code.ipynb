{
 "cells": [
  {
   "cell_type": "markdown",
   "metadata": {},
   "source": [
    "1.What is the output of the following code?nums =set([1,1,2,3,3,3,4,4])print(len(nums))Hint:Set consists unique element."
   ]
  },
  {
   "cell_type": "code",
   "execution_count": 1,
   "metadata": {},
   "outputs": [
    {
     "name": "stdout",
     "output_type": "stream",
     "text": [
      "4\n"
     ]
    }
   ],
   "source": [
    "nums =set([1,1,2,3,3,3,4,4])\n",
    "print(len(nums))"
   ]
  },
  {
   "cell_type": "markdown",
   "metadata": {},
   "source": [
    "2.What will be the output?d ={\"john\":40, \"peter\":45}print(list(d.keys()))Hint:d.keys()isthefunctionwhichwillshowkeys"
   ]
  },
  {
   "cell_type": "code",
   "execution_count": 2,
   "metadata": {},
   "outputs": [
    {
     "name": "stdout",
     "output_type": "stream",
     "text": [
      "['john', 'peter']\n"
     ]
    }
   ],
   "source": [
    "d ={\"john\":40, \"peter\":45}\n",
    "print(list(d.keys()))"
   ]
  },
  {
   "cell_type": "markdown",
   "metadata": {},
   "source": [
    "3.A website requires a user to input username and password to register.\n",
    "\n",
    "Write a program to check the validity of password given by user. \n",
    "\n",
    "Following are the criteria for checking password:\n",
    "\n",
    "1. At least 1 letter between [a-z]\n",
    "\n",
    "2. At least 1 number between [0-9]\n",
    "\n",
    "1. At least 1 letter between [A-Z]\n",
    "\n",
    "3. At least 1 character from [$#@]\n",
    "\n",
    "4. Minimum length of transaction password: 6\n",
    "\n",
    "5. Maximum length of transaction password: 12\n",
    "\n",
    "Hint: In case ofinput data being supplied to the question, it should be assumed to be a console input."
   ]
  },
  {
   "cell_type": "code",
   "execution_count": 15,
   "metadata": {},
   "outputs": [
    {
     "name": "stdout",
     "output_type": "stream",
     "text": [
      "Raghav\n",
      "Raghav@123\n",
      "Password created successfully\n"
     ]
    }
   ],
   "source": [
    "def passwordValidation(username,password):\n",
    "    uppercase='ABCDEFGHIJKLMNOPQRSTUVWXYZ'\n",
    "    lowercase='abcdefghijklmnopqrstuvwxyz'\n",
    "    number='0123456789'\n",
    "    specialchar='$#@'\n",
    "    a=b=c=d=e=0\n",
    "    for i in range(len(password)):\n",
    "        if password[i] in uppercase:\n",
    "            a+=1\n",
    "        elif password[i] in lowercase:\n",
    "            b+=1\n",
    "        elif password[i] in number:\n",
    "            c+=1\n",
    "        elif password[i] in specialchar:\n",
    "            d+=1\n",
    "    if len(password)>5 and len(password)<13:\n",
    "            e+=1\n",
    "    if(a>=1 and b>=1 and c>=1 and d>=1 and e>=1):\n",
    "        print(\"Password created successfully\")\n",
    "    else:\n",
    "        print('''Criteria to create password is not met.Please create a password that satisfies below criteria\n",
    "              1. At least 1 letter between [a-z]\n",
    "              2. At least 1 number between [0-9]\n",
    "              3. At least 1 letter between [A-Z]\n",
    "              4. At least 1 character from [$#@]\n",
    "              5. Minimum length of transaction password: 6\n",
    "              6. Maximum length of transaction password: 12''')\n",
    "\n",
    "username=input()\n",
    "password=input()\n",
    "passwordValidation(username,password)\n"
   ]
  },
  {
   "cell_type": "markdown",
   "metadata": {},
   "source": [
    "## Edureka Solution"
   ]
  },
  {
   "cell_type": "code",
   "execution_count": null,
   "metadata": {
    "collapsed": true
   },
   "outputs": [],
   "source": [
    "print ('enter password')\n",
    "print ('the password must be at least 6, and no more than 12 characters long')\n",
    "password = input ('type your password    ....')\n",
    "weak = 'weak'\n",
    "med = 'medium'\n",
    "strong = 'strong'\n",
    "if len(password) >12:\n",
    "    print ('password is too long It must be between 6 and 12 characters')\n",
    "elif len(password) <6:\n",
    "    print ('password is too short It must be between 6 and 12 characters')\n",
    "elif len(password) >=6 and len(password) <= 12:\n",
    "    print ('password ok')\n",
    "    if password.lower()== password or password.upper()==password or password.isalnum()==password:\n",
    "        print ('password is', weak)\n",
    "    elif password.lower()== password and password.upper()==password or password.isalnum()==password:\n",
    "        print ('password is', med)\n",
    "    else:password.lower()== password and password.upper()==password and password.isalnum()==password\n",
    "        print ('password is', strong)\n"
   ]
  },
  {
   "cell_type": "markdown",
   "metadata": {},
   "source": [
    "4.Write a for loop that prints all elements of a list and their position in the list.a = [4,7,3,2,5,9] Hint: Use Loop to iterate through list elements"
   ]
  },
  {
   "cell_type": "code",
   "execution_count": 29,
   "metadata": {},
   "outputs": [
    {
     "name": "stdout",
     "output_type": "stream",
     "text": [
      "[4, 7, 3, 2, 5, 9]\n",
      "[[4, 0], [7, 1], [3, 2], [2, 3], [5, 4], [9, 5]]\n"
     ]
    }
   ],
   "source": [
    "a = [4,7,3,2,5,9]\n",
    "print(a[:])\n",
    "print([[a[i],i] for i in range(len(a))])"
   ]
  },
  {
   "cell_type": "markdown",
   "metadata": {},
   "source": [
    "## Edureka Solution"
   ]
  },
  {
   "cell_type": "code",
   "execution_count": 2,
   "metadata": {},
   "outputs": [
    {
     "name": "stdout",
     "output_type": "stream",
     "text": [
      "4 is at position 1\n",
      "7 is at position 2\n",
      "3 is at position 3\n",
      "2 is at position 4\n",
      "5 is at position 5\n",
      "9 is at position 6\n"
     ]
    }
   ],
   "source": [
    "a = [4,7,3,2,5,9]\n",
    "for item in a:\n",
    "    print(str(item) + \" is at position \" + str(a.index(item) + 1))"
   ]
  },
  {
   "cell_type": "markdown",
   "metadata": {},
   "source": [
    "5.Please   write   a   program   which   accepts  a   string   from   console   and   print   the characters that have even indexes.Example: If the following string is given as input to the program:H1e2l3l4o5w6o7r8l9dThen, the output of the program should be:Helloworld"
   ]
  },
  {
   "cell_type": "code",
   "execution_count": 40,
   "metadata": {},
   "outputs": [
    {
     "name": "stdout",
     "output_type": "stream",
     "text": [
      "H1e2r3o4oo\n",
      "['H', 'e', 'r', 'o', 'o']\n",
      "Heroo\n"
     ]
    }
   ],
   "source": [
    "a=input()\n",
    "#a=\"H1e2r3o4oo\"\n",
    "print(\n",
    "    [a[i] for i in range(0,len(a),2)]\n",
    ")\n",
    "print(a[::2])"
   ]
  },
  {
   "cell_type": "markdown",
   "metadata": {},
   "source": [
    "## Edureka Solution"
   ]
  },
  {
   "cell_type": "code",
   "execution_count": 3,
   "metadata": {},
   "outputs": [
    {
     "name": "stdout",
     "output_type": "stream",
     "text": [
      "Enter String like H1e2l3l4o5w6o7r8l9d means alphanumeric string which wil contain alternate alphabates and numbersH1e2r300\n",
      "Her0\n"
     ]
    }
   ],
   "source": [
    "s=input(\"Enter String like H1e2l3l4o5w6o7r8l9d means alphanumeric string which wil contain alternate alphabates and numbers\")\n",
    "s = s[::2]\n",
    "print(s)"
   ]
  },
  {
   "cell_type": "markdown",
   "metadata": {},
   "source": [
    "6.Please write a program which accepts a string from console and print it in reverse order.Example: If the following string is given as input to the program: rise to vote sirThen, the output of the program should be:ris etov ot esir"
   ]
  },
  {
   "cell_type": "code",
   "execution_count": 38,
   "metadata": {},
   "outputs": [
    {
     "name": "stdout",
     "output_type": "stream",
     "text": [
      "ris etov ot esir\n"
     ]
    }
   ],
   "source": [
    "a=\"rise to vote sir\"\n",
    "print(a[::-1])"
   ]
  },
  {
   "cell_type": "markdown",
   "metadata": {},
   "source": [
    "## Edureka Solution"
   ]
  },
  {
   "cell_type": "code",
   "execution_count": 4,
   "metadata": {},
   "outputs": [
    {
     "name": "stdout",
     "output_type": "stream",
     "text": [
      "Enter string which you want to reversestststtstsllkjh\n",
      "hjkllststtststs\n"
     ]
    }
   ],
   "source": [
    "s=input(\"Enter string which you want to reverse\")\n",
    "s = s[::-1]\n",
    "print(s)"
   ]
  },
  {
   "cell_type": "markdown",
   "metadata": {},
   "source": [
    "7.Please write a program which count and print the numbers of each character in a string input by console.Example: If the following string is given as input to the program:abcdefgabcThen, the output of the program should be:a,2c,2b,2e,1d,1g,1f,1"
   ]
  },
  {
   "cell_type": "markdown",
   "metadata": {},
   "source": [
    "In total, there are 256 ASCII characters, and can be broadly divided into three categories: ASCII control characters (0-31 and 127) ASCII printable characters (32-126) (most commonly referred) Extended ASCII characters (128-255)"
   ]
  },
  {
   "cell_type": "code",
   "execution_count": 52,
   "metadata": {},
   "outputs": [
    {
     "name": "stdout",
     "output_type": "stream",
     "text": [
      "  9\n",
      ". 1\n",
      "P 2\n",
      "a 3\n",
      "b 1\n",
      "c 1\n",
      "d 1\n",
      "e 6\n",
      "f 1\n",
      "g 3\n",
      "h 3\n",
      "i 3\n",
      "n 4\n",
      "o 5\n",
      "r 5\n",
      "s 4\n",
      "t 8\n",
      "u 1\n",
      "w 1\n",
      "y 2\n"
     ]
    }
   ],
   "source": [
    "a=\"Pythonforbeginners is a great source to get started with Python.\"\n",
    "b=[0 for i in range(256)]\n",
    "for i in range(len(a)):\n",
    "    b[ord(a[i])]+=1\n",
    "for i in range(len(b)):\n",
    "    if(b[i]!=0):\n",
    "        print(chr(i),b[i])\n",
    "        \n",
    "    "
   ]
  },
  {
   "cell_type": "code",
   "execution_count": 65,
   "metadata": {},
   "outputs": [
    {
     "name": "stdout",
     "output_type": "stream",
     "text": [
      "  9\n",
      ". 1\n",
      "P 2\n",
      "a 3\n",
      "b 1\n",
      "c 1\n",
      "d 1\n",
      "e 6\n",
      "f 1\n",
      "g 3\n",
      "h 3\n",
      "i 3\n",
      "n 4\n",
      "o 5\n",
      "r 5\n",
      "s 4\n",
      "t 8\n",
      "u 1\n",
      "w 1\n",
      "y 2\n"
     ]
    }
   ],
   "source": [
    "a=\"Pythonforbeginners is a great source to get started with Python.\"\n",
    "dic=dict.fromkeys(range(256),0)\n",
    "for i in a:\n",
    "    dic[ord(i)]+=1\n",
    "for i in dic.keys():\n",
    "    if dic[i]!=0:\n",
    "        print(chr(i),dic[i])"
   ]
  },
  {
   "cell_type": "markdown",
   "metadata": {
    "collapsed": true
   },
   "source": [
    "## Edureka Solution"
   ]
  },
  {
   "cell_type": "code",
   "execution_count": 67,
   "metadata": {},
   "outputs": [
    {
     "name": "stdout",
     "output_type": "stream",
     "text": [
      "Enter string: Pythonforbeginners is a great source to get started with Python.\n",
      "{'P': 1}\n",
      "{'P': 1, 'y': 1}\n",
      "{'P': 1, 'y': 1, 't': 1}\n",
      "{'P': 1, 'y': 1, 't': 1, 'h': 1}\n",
      "{'P': 1, 'y': 1, 't': 1, 'h': 1, 'o': 1}\n",
      "{'P': 1, 'y': 1, 't': 1, 'h': 1, 'o': 1, 'n': 1}\n",
      "{'P': 1, 'y': 1, 't': 1, 'h': 1, 'o': 1, 'n': 1, 'f': 1}\n",
      "{'P': 1, 'y': 1, 't': 1, 'h': 1, 'o': 2, 'n': 1, 'f': 1}\n",
      "{'P': 1, 'y': 1, 't': 1, 'h': 1, 'o': 2, 'n': 1, 'f': 1, 'r': 1}\n",
      "{'P': 1, 'y': 1, 't': 1, 'h': 1, 'o': 2, 'n': 1, 'f': 1, 'r': 1, 'b': 1}\n",
      "{'P': 1, 'y': 1, 't': 1, 'h': 1, 'o': 2, 'n': 1, 'f': 1, 'r': 1, 'b': 1, 'e': 1}\n",
      "{'P': 1, 'y': 1, 't': 1, 'h': 1, 'o': 2, 'n': 1, 'f': 1, 'r': 1, 'b': 1, 'e': 1, 'g': 1}\n",
      "{'P': 1, 'y': 1, 't': 1, 'h': 1, 'o': 2, 'n': 1, 'f': 1, 'r': 1, 'b': 1, 'e': 1, 'g': 1, 'i': 1}\n",
      "{'P': 1, 'y': 1, 't': 1, 'h': 1, 'o': 2, 'n': 2, 'f': 1, 'r': 1, 'b': 1, 'e': 1, 'g': 1, 'i': 1}\n",
      "{'P': 1, 'y': 1, 't': 1, 'h': 1, 'o': 2, 'n': 3, 'f': 1, 'r': 1, 'b': 1, 'e': 1, 'g': 1, 'i': 1}\n",
      "{'P': 1, 'y': 1, 't': 1, 'h': 1, 'o': 2, 'n': 3, 'f': 1, 'r': 1, 'b': 1, 'e': 2, 'g': 1, 'i': 1}\n",
      "{'P': 1, 'y': 1, 't': 1, 'h': 1, 'o': 2, 'n': 3, 'f': 1, 'r': 2, 'b': 1, 'e': 2, 'g': 1, 'i': 1}\n",
      "{'P': 1, 'y': 1, 't': 1, 'h': 1, 'o': 2, 'n': 3, 'f': 1, 'r': 2, 'b': 1, 'e': 2, 'g': 1, 'i': 1, 's': 1}\n",
      "{'P': 1, 'y': 1, 't': 1, 'h': 1, 'o': 2, 'n': 3, 'f': 1, 'r': 2, 'b': 1, 'e': 2, 'g': 1, 'i': 1, 's': 1, ' ': 1}\n",
      "{'P': 1, 'y': 1, 't': 1, 'h': 1, 'o': 2, 'n': 3, 'f': 1, 'r': 2, 'b': 1, 'e': 2, 'g': 1, 'i': 2, 's': 1, ' ': 1}\n",
      "{'P': 1, 'y': 1, 't': 1, 'h': 1, 'o': 2, 'n': 3, 'f': 1, 'r': 2, 'b': 1, 'e': 2, 'g': 1, 'i': 2, 's': 2, ' ': 1}\n",
      "{'P': 1, 'y': 1, 't': 1, 'h': 1, 'o': 2, 'n': 3, 'f': 1, 'r': 2, 'b': 1, 'e': 2, 'g': 1, 'i': 2, 's': 2, ' ': 2}\n",
      "{'P': 1, 'y': 1, 't': 1, 'h': 1, 'o': 2, 'n': 3, 'f': 1, 'r': 2, 'b': 1, 'e': 2, 'g': 1, 'i': 2, 's': 2, ' ': 2, 'a': 1}\n",
      "{'P': 1, 'y': 1, 't': 1, 'h': 1, 'o': 2, 'n': 3, 'f': 1, 'r': 2, 'b': 1, 'e': 2, 'g': 1, 'i': 2, 's': 2, ' ': 3, 'a': 1}\n",
      "{'P': 1, 'y': 1, 't': 1, 'h': 1, 'o': 2, 'n': 3, 'f': 1, 'r': 2, 'b': 1, 'e': 2, 'g': 2, 'i': 2, 's': 2, ' ': 3, 'a': 1}\n",
      "{'P': 1, 'y': 1, 't': 1, 'h': 1, 'o': 2, 'n': 3, 'f': 1, 'r': 3, 'b': 1, 'e': 2, 'g': 2, 'i': 2, 's': 2, ' ': 3, 'a': 1}\n",
      "{'P': 1, 'y': 1, 't': 1, 'h': 1, 'o': 2, 'n': 3, 'f': 1, 'r': 3, 'b': 1, 'e': 3, 'g': 2, 'i': 2, 's': 2, ' ': 3, 'a': 1}\n",
      "{'P': 1, 'y': 1, 't': 1, 'h': 1, 'o': 2, 'n': 3, 'f': 1, 'r': 3, 'b': 1, 'e': 3, 'g': 2, 'i': 2, 's': 2, ' ': 3, 'a': 2}\n",
      "{'P': 1, 'y': 1, 't': 2, 'h': 1, 'o': 2, 'n': 3, 'f': 1, 'r': 3, 'b': 1, 'e': 3, 'g': 2, 'i': 2, 's': 2, ' ': 3, 'a': 2}\n",
      "{'P': 1, 'y': 1, 't': 2, 'h': 1, 'o': 2, 'n': 3, 'f': 1, 'r': 3, 'b': 1, 'e': 3, 'g': 2, 'i': 2, 's': 2, ' ': 4, 'a': 2}\n",
      "{'P': 1, 'y': 1, 't': 2, 'h': 1, 'o': 2, 'n': 3, 'f': 1, 'r': 3, 'b': 1, 'e': 3, 'g': 2, 'i': 2, 's': 3, ' ': 4, 'a': 2}\n",
      "{'P': 1, 'y': 1, 't': 2, 'h': 1, 'o': 3, 'n': 3, 'f': 1, 'r': 3, 'b': 1, 'e': 3, 'g': 2, 'i': 2, 's': 3, ' ': 4, 'a': 2}\n",
      "{'P': 1, 'y': 1, 't': 2, 'h': 1, 'o': 3, 'n': 3, 'f': 1, 'r': 3, 'b': 1, 'e': 3, 'g': 2, 'i': 2, 's': 3, ' ': 4, 'a': 2, 'u': 1}\n",
      "{'P': 1, 'y': 1, 't': 2, 'h': 1, 'o': 3, 'n': 3, 'f': 1, 'r': 4, 'b': 1, 'e': 3, 'g': 2, 'i': 2, 's': 3, ' ': 4, 'a': 2, 'u': 1}\n",
      "{'P': 1, 'y': 1, 't': 2, 'h': 1, 'o': 3, 'n': 3, 'f': 1, 'r': 4, 'b': 1, 'e': 3, 'g': 2, 'i': 2, 's': 3, ' ': 4, 'a': 2, 'u': 1, 'c': 1}\n",
      "{'P': 1, 'y': 1, 't': 2, 'h': 1, 'o': 3, 'n': 3, 'f': 1, 'r': 4, 'b': 1, 'e': 4, 'g': 2, 'i': 2, 's': 3, ' ': 4, 'a': 2, 'u': 1, 'c': 1}\n",
      "{'P': 1, 'y': 1, 't': 2, 'h': 1, 'o': 3, 'n': 3, 'f': 1, 'r': 4, 'b': 1, 'e': 4, 'g': 2, 'i': 2, 's': 3, ' ': 5, 'a': 2, 'u': 1, 'c': 1}\n",
      "{'P': 1, 'y': 1, 't': 3, 'h': 1, 'o': 3, 'n': 3, 'f': 1, 'r': 4, 'b': 1, 'e': 4, 'g': 2, 'i': 2, 's': 3, ' ': 5, 'a': 2, 'u': 1, 'c': 1}\n",
      "{'P': 1, 'y': 1, 't': 3, 'h': 1, 'o': 4, 'n': 3, 'f': 1, 'r': 4, 'b': 1, 'e': 4, 'g': 2, 'i': 2, 's': 3, ' ': 5, 'a': 2, 'u': 1, 'c': 1}\n",
      "{'P': 1, 'y': 1, 't': 3, 'h': 1, 'o': 4, 'n': 3, 'f': 1, 'r': 4, 'b': 1, 'e': 4, 'g': 2, 'i': 2, 's': 3, ' ': 6, 'a': 2, 'u': 1, 'c': 1}\n",
      "{'P': 1, 'y': 1, 't': 3, 'h': 1, 'o': 4, 'n': 3, 'f': 1, 'r': 4, 'b': 1, 'e': 4, 'g': 3, 'i': 2, 's': 3, ' ': 6, 'a': 2, 'u': 1, 'c': 1}\n",
      "{'P': 1, 'y': 1, 't': 3, 'h': 1, 'o': 4, 'n': 3, 'f': 1, 'r': 4, 'b': 1, 'e': 5, 'g': 3, 'i': 2, 's': 3, ' ': 6, 'a': 2, 'u': 1, 'c': 1}\n",
      "{'P': 1, 'y': 1, 't': 4, 'h': 1, 'o': 4, 'n': 3, 'f': 1, 'r': 4, 'b': 1, 'e': 5, 'g': 3, 'i': 2, 's': 3, ' ': 6, 'a': 2, 'u': 1, 'c': 1}\n",
      "{'P': 1, 'y': 1, 't': 4, 'h': 1, 'o': 4, 'n': 3, 'f': 1, 'r': 4, 'b': 1, 'e': 5, 'g': 3, 'i': 2, 's': 3, ' ': 7, 'a': 2, 'u': 1, 'c': 1}\n",
      "{'P': 1, 'y': 1, 't': 4, 'h': 1, 'o': 4, 'n': 3, 'f': 1, 'r': 4, 'b': 1, 'e': 5, 'g': 3, 'i': 2, 's': 4, ' ': 7, 'a': 2, 'u': 1, 'c': 1}\n",
      "{'P': 1, 'y': 1, 't': 5, 'h': 1, 'o': 4, 'n': 3, 'f': 1, 'r': 4, 'b': 1, 'e': 5, 'g': 3, 'i': 2, 's': 4, ' ': 7, 'a': 2, 'u': 1, 'c': 1}\n",
      "{'P': 1, 'y': 1, 't': 5, 'h': 1, 'o': 4, 'n': 3, 'f': 1, 'r': 4, 'b': 1, 'e': 5, 'g': 3, 'i': 2, 's': 4, ' ': 7, 'a': 3, 'u': 1, 'c': 1}\n",
      "{'P': 1, 'y': 1, 't': 5, 'h': 1, 'o': 4, 'n': 3, 'f': 1, 'r': 5, 'b': 1, 'e': 5, 'g': 3, 'i': 2, 's': 4, ' ': 7, 'a': 3, 'u': 1, 'c': 1}\n",
      "{'P': 1, 'y': 1, 't': 6, 'h': 1, 'o': 4, 'n': 3, 'f': 1, 'r': 5, 'b': 1, 'e': 5, 'g': 3, 'i': 2, 's': 4, ' ': 7, 'a': 3, 'u': 1, 'c': 1}\n",
      "{'P': 1, 'y': 1, 't': 6, 'h': 1, 'o': 4, 'n': 3, 'f': 1, 'r': 5, 'b': 1, 'e': 6, 'g': 3, 'i': 2, 's': 4, ' ': 7, 'a': 3, 'u': 1, 'c': 1}\n",
      "{'P': 1, 'y': 1, 't': 6, 'h': 1, 'o': 4, 'n': 3, 'f': 1, 'r': 5, 'b': 1, 'e': 6, 'g': 3, 'i': 2, 's': 4, ' ': 7, 'a': 3, 'u': 1, 'c': 1, 'd': 1}\n",
      "{'P': 1, 'y': 1, 't': 6, 'h': 1, 'o': 4, 'n': 3, 'f': 1, 'r': 5, 'b': 1, 'e': 6, 'g': 3, 'i': 2, 's': 4, ' ': 8, 'a': 3, 'u': 1, 'c': 1, 'd': 1}\n",
      "{'P': 1, 'y': 1, 't': 6, 'h': 1, 'o': 4, 'n': 3, 'f': 1, 'r': 5, 'b': 1, 'e': 6, 'g': 3, 'i': 2, 's': 4, ' ': 8, 'a': 3, 'u': 1, 'c': 1, 'd': 1, 'w': 1}\n",
      "{'P': 1, 'y': 1, 't': 6, 'h': 1, 'o': 4, 'n': 3, 'f': 1, 'r': 5, 'b': 1, 'e': 6, 'g': 3, 'i': 3, 's': 4, ' ': 8, 'a': 3, 'u': 1, 'c': 1, 'd': 1, 'w': 1}\n",
      "{'P': 1, 'y': 1, 't': 7, 'h': 1, 'o': 4, 'n': 3, 'f': 1, 'r': 5, 'b': 1, 'e': 6, 'g': 3, 'i': 3, 's': 4, ' ': 8, 'a': 3, 'u': 1, 'c': 1, 'd': 1, 'w': 1}\n",
      "{'P': 1, 'y': 1, 't': 7, 'h': 2, 'o': 4, 'n': 3, 'f': 1, 'r': 5, 'b': 1, 'e': 6, 'g': 3, 'i': 3, 's': 4, ' ': 8, 'a': 3, 'u': 1, 'c': 1, 'd': 1, 'w': 1}\n",
      "{'P': 1, 'y': 1, 't': 7, 'h': 2, 'o': 4, 'n': 3, 'f': 1, 'r': 5, 'b': 1, 'e': 6, 'g': 3, 'i': 3, 's': 4, ' ': 9, 'a': 3, 'u': 1, 'c': 1, 'd': 1, 'w': 1}\n",
      "{'P': 2, 'y': 1, 't': 7, 'h': 2, 'o': 4, 'n': 3, 'f': 1, 'r': 5, 'b': 1, 'e': 6, 'g': 3, 'i': 3, 's': 4, ' ': 9, 'a': 3, 'u': 1, 'c': 1, 'd': 1, 'w': 1}\n",
      "{'P': 2, 'y': 2, 't': 7, 'h': 2, 'o': 4, 'n': 3, 'f': 1, 'r': 5, 'b': 1, 'e': 6, 'g': 3, 'i': 3, 's': 4, ' ': 9, 'a': 3, 'u': 1, 'c': 1, 'd': 1, 'w': 1}\n",
      "{'P': 2, 'y': 2, 't': 8, 'h': 2, 'o': 4, 'n': 3, 'f': 1, 'r': 5, 'b': 1, 'e': 6, 'g': 3, 'i': 3, 's': 4, ' ': 9, 'a': 3, 'u': 1, 'c': 1, 'd': 1, 'w': 1}\n",
      "{'P': 2, 'y': 2, 't': 8, 'h': 3, 'o': 4, 'n': 3, 'f': 1, 'r': 5, 'b': 1, 'e': 6, 'g': 3, 'i': 3, 's': 4, ' ': 9, 'a': 3, 'u': 1, 'c': 1, 'd': 1, 'w': 1}\n",
      "{'P': 2, 'y': 2, 't': 8, 'h': 3, 'o': 5, 'n': 3, 'f': 1, 'r': 5, 'b': 1, 'e': 6, 'g': 3, 'i': 3, 's': 4, ' ': 9, 'a': 3, 'u': 1, 'c': 1, 'd': 1, 'w': 1}\n",
      "{'P': 2, 'y': 2, 't': 8, 'h': 3, 'o': 5, 'n': 4, 'f': 1, 'r': 5, 'b': 1, 'e': 6, 'g': 3, 'i': 3, 's': 4, ' ': 9, 'a': 3, 'u': 1, 'c': 1, 'd': 1, 'w': 1}\n",
      "{'P': 2, 'y': 2, 't': 8, 'h': 3, 'o': 5, 'n': 4, 'f': 1, 'r': 5, 'b': 1, 'e': 6, 'g': 3, 'i': 3, 's': 4, ' ': 9, 'a': 3, 'u': 1, 'c': 1, 'd': 1, 'w': 1, '.': 1}\n",
      "P,2\n",
      "y,2\n",
      "t,8\n",
      "h,3\n",
      "o,5\n",
      "n,4\n",
      "f,1\n",
      "r,5\n",
      "b,1\n",
      "e,6\n",
      "g,3\n",
      "i,3\n",
      "s,4\n",
      " ,9\n",
      "a,3\n",
      "u,1\n",
      "c,1\n",
      "d,1\n",
      "w,1\n",
      ".,1\n"
     ]
    }
   ],
   "source": [
    "dic = {}\n",
    "s=input('Enter string: ')\n",
    "for key in s:\n",
    "    dic[key] = dic.get(key,0)+1\n",
    "    print(dic)\n",
    "print('\\n'.join(['%s,%s' % (k, v) for k, v in dic.items()]))      "
   ]
  },
  {
   "cell_type": "code",
   "execution_count": 68,
   "metadata": {},
   "outputs": [
    {
     "name": "stdout",
     "output_type": "stream",
     "text": [
      "The input string is: Pythonforbeginners is a great source to get started with Python.\n",
      "The count of characters in the string is:\n",
      "{'P': 2, 'y': 2, 't': 8, 'h': 3, 'o': 5, 'n': 4, 'f': 1, 'r': 5, 'b': 1, 'e': 6, 'g': 3, 'i': 3, 's': 4, ' ': 9, 'a': 3, 'u': 1, 'c': 1, 'd': 1, 'w': 1, '.': 1}\n"
     ]
    }
   ],
   "source": [
    "input_string = \"Pythonforbeginners is a great source to get started with Python.\"\n",
    "print(\"The input string is:\", input_string)\n",
    "countOfChars = dict()\n",
    "for character in input_string:\n",
    "    if character in countOfChars:\n",
    "        countOfChars[character] += 1\n",
    "    else:\n",
    "        countOfChars[character] = 1\n",
    "print(\"The count of characters in the string is:\")\n",
    "print(countOfChars)"
   ]
  },
  {
   "cell_type": "code",
   "execution_count": 14,
   "metadata": {},
   "outputs": [
    {
     "name": "stdout",
     "output_type": "stream",
     "text": [
      "The input string is: Pythonforbeginners is a great source to get started with Python.\n",
      "Count of character 'c' is 1\n",
      "Count of character 'h' is 3\n",
      "Count of character 'f' is 1\n",
      "Count of character 'u' is 1\n",
      "Count of character 'r' is 5\n",
      "Count of character 'P' is 2\n",
      "Count of character 'o' is 5\n",
      "Count of character 't' is 8\n",
      "Count of character 'a' is 3\n",
      "Count of character 's' is 4\n",
      "Count of character 'n' is 4\n",
      "Count of character 'w' is 1\n",
      "Count of character 'i' is 3\n",
      "Count of character '.' is 1\n",
      "Count of character ' ' is 9\n",
      "Count of character 'd' is 1\n",
      "Count of character 'e' is 6\n",
      "Count of character 'g' is 3\n",
      "Count of character 'b' is 1\n",
      "Count of character 'y' is 2\n"
     ]
    }
   ],
   "source": [
    "input_string = \"Pythonforbeginners is a great source to get started with Python.\"\n",
    "print(\"The input string is:\", input_string)\n",
    "mySet = set(input_string)\n",
    "for element in mySet:\n",
    "    countOfChar = 0\n",
    "    for character in input_string:\n",
    "        if character == element:\n",
    "            countOfChar += 1\n",
    "    print(\"Count of character '{}' is {}\".format(element, countOfChar))"
   ]
  },
  {
   "cell_type": "markdown",
   "metadata": {},
   "source": [
    "8.With   two   given   lists   [1,3,6,78,35,55]   and   [12,24,35,24,88,120,155],   write   a program to make a list whose elements are intersection of the above given lists"
   ]
  },
  {
   "cell_type": "code",
   "execution_count": 68,
   "metadata": {},
   "outputs": [
    {
     "name": "stdout",
     "output_type": "stream",
     "text": [
      "[35]\n"
     ]
    }
   ],
   "source": [
    "def intersection(list1,list2):\n",
    "    print(list(set(list1) & set(list2)))\n",
    "list1=[1,3,6,78,35,55] \n",
    "list2= [12,24,35,24,88,120,155]\n",
    "intersection(list1,list2)"
   ]
  },
  {
   "cell_type": "markdown",
   "metadata": {},
   "source": [
    "## Edureka Solution"
   ]
  },
  {
   "cell_type": "code",
   "execution_count": 8,
   "metadata": {},
   "outputs": [
    {
     "name": "stdout",
     "output_type": "stream",
     "text": [
      "[35]\n"
     ]
    }
   ],
   "source": [
    "set1={1,3,6,78,35,55}\n",
    "set2={12,24,35,24,88,120,155}\n",
    "set1 &= set2\n",
    "li=list(set1)\n",
    "print(li)"
   ]
  },
  {
   "cell_type": "markdown",
   "metadata": {},
   "source": [
    "9.With a given list [12,24,35,24,88,120,155,88,120,155], write a program to print this list after removing all duplicate values with original order reserved"
   ]
  },
  {
   "cell_type": "code",
   "execution_count": 71,
   "metadata": {},
   "outputs": [
    {
     "name": "stdout",
     "output_type": "stream",
     "text": [
      "[12, 24, 35, 88, 120, 155]\n"
     ]
    }
   ],
   "source": [
    "list1= [12,24,35,24,88,120,155,88,120,155]\n",
    "list2=[]\n",
    "for i in list1:\n",
    "    if i not in list2:\n",
    "        list2.append(i)\n",
    "print(list2)"
   ]
  },
  {
   "cell_type": "code",
   "execution_count": 70,
   "metadata": {},
   "outputs": [
    {
     "name": "stdout",
     "output_type": "stream",
     "text": [
      "{1: None, 2: None, 3: None, 4: None, 5: None, 6: None, 7: None, 8: None, 9: None}\n",
      "[1, 2, 3, 4, 5, 6, 7, 8, 9]\n"
     ]
    }
   ],
   "source": [
    "def remove_duplicates_using_list_comprehension(lst):\n",
    "    print(dict.fromkeys(lst))\n",
    "    return list(dict.fromkeys(lst))\n",
    "\n",
    "my_list = [1, 2, 3, 4, 4, 5, 6, 6, 7, 8, 9, 9]\n",
    "unique_list = remove_duplicates_using_list_comprehension(my_list)\n",
    "print(unique_list)\n"
   ]
  },
  {
   "cell_type": "markdown",
   "metadata": {
    "collapsed": true
   },
   "source": [
    "## Edureka Solution"
   ]
  },
  {
   "cell_type": "code",
   "execution_count": 10,
   "metadata": {},
   "outputs": [
    {
     "name": "stdout",
     "output_type": "stream",
     "text": [
      "[12, 24, 35, 88, 120, 155]\n"
     ]
    }
   ],
   "source": [
    "def removeDuplicate( li ):\n",
    "    newli=[]\n",
    "    seen = set()\n",
    "    for item in li:\n",
    "        if item not in seen:\n",
    "            seen.add( item )\n",
    "            newli.append(item)\n",
    "    return newli\n",
    "li=[12,24,35,24,88,120,155,88,120,155]\n",
    "print(removeDuplicate(li))"
   ]
  },
  {
   "cell_type": "markdown",
   "metadata": {},
   "source": [
    "10.By using list comprehension, please write a program to print the list after removing the value 24 in [12,24,35,24,88,120,155]"
   ]
  },
  {
   "cell_type": "code",
   "execution_count": 74,
   "metadata": {},
   "outputs": [
    {
     "name": "stdout",
     "output_type": "stream",
     "text": [
      "[12, 35, 88, 120, 155]\n"
     ]
    }
   ],
   "source": [
    "list1=[12,24,35,24,88,120,155]\n",
    "print([list1[i] for i in range(len(list1)) if list1[i]!=24])"
   ]
  },
  {
   "cell_type": "markdown",
   "metadata": {
    "collapsed": true
   },
   "source": [
    "## Edureka Solution"
   ]
  },
  {
   "cell_type": "code",
   "execution_count": 11,
   "metadata": {},
   "outputs": [
    {
     "name": "stdout",
     "output_type": "stream",
     "text": [
      "[12, 35, 88, 120, 155]\n"
     ]
    }
   ],
   "source": [
    "li = [12,24,35,24,88,120,155]\n",
    "li = [x for x in li if x!=24]\n",
    "print(li)"
   ]
  },
  {
   "cell_type": "markdown",
   "metadata": {},
   "source": [
    "11 By using list comprehension, please write a program to print the list after removing the 0th,4th,5th numbers in [12,24,35,70,88,120,155]."
   ]
  },
  {
   "cell_type": "code",
   "execution_count": 75,
   "metadata": {},
   "outputs": [
    {
     "name": "stdout",
     "output_type": "stream",
     "text": [
      "[24, 35, 70, 155]\n"
     ]
    }
   ],
   "source": [
    "list1= [12,24,35,70,88,120,155]\n",
    "print([list1[i] for i in range(len(list1)) if i not in (0,4,5)])"
   ]
  },
  {
   "cell_type": "markdown",
   "metadata": {
    "collapsed": true
   },
   "source": [
    "## Edureka Solution"
   ]
  },
  {
   "cell_type": "code",
   "execution_count": 12,
   "metadata": {},
   "outputs": [
    {
     "name": "stdout",
     "output_type": "stream",
     "text": [
      "[24, 35, 70, 155]\n"
     ]
    }
   ],
   "source": [
    "li = [12,24,35,70,88,120,155]\n",
    "li = [x for (i,x) in enumerate(li) if i not in (0,4,5)]\n",
    "print(li)"
   ]
  },
  {
   "cell_type": "markdown",
   "metadata": {},
   "source": [
    "12.By using list comprehension, please write a program to print the list after removing delete numbers which are divisible by 5 and 7 in [12,24,35,70,88,120,155]"
   ]
  },
  {
   "cell_type": "code",
   "execution_count": 77,
   "metadata": {},
   "outputs": [
    {
     "name": "stdout",
     "output_type": "stream",
     "text": [
      "[12]\n"
     ]
    }
   ],
   "source": [
    "list1=[12,24,35,70,88,120,155]\n",
    "print([list1[i] for i in range(len(list1)) if i%5==0 and i%7==0])"
   ]
  },
  {
   "cell_type": "markdown",
   "metadata": {
    "collapsed": true
   },
   "source": [
    "## Edureka Solution"
   ]
  },
  {
   "cell_type": "code",
   "execution_count": 13,
   "metadata": {},
   "outputs": [
    {
     "name": "stdout",
     "output_type": "stream",
     "text": [
      "[12, 24, 88]\n"
     ]
    }
   ],
   "source": [
    "li = [12,24,35,70,88,120,155]\n",
    "li = [x for x in li if x%5!=0 and x%7!=0]\n",
    "print(li)"
   ]
  },
  {
   "cell_type": "markdown",
   "metadata": {},
   "source": [
    "13.Please  write  a  program  to  randomly  generate  a  list  with  5  numbers,  which  are divisible by 5 and 7 , between 1 and 1000 inclusive."
   ]
  },
  {
   "cell_type": "code",
   "execution_count": 26,
   "metadata": {},
   "outputs": [
    {
     "name": "stdout",
     "output_type": "stream",
     "text": [
      "[353, 111, 41, 574, 502]\n"
     ]
    }
   ],
   "source": [
    "import random\n",
    "resp = random.sample(range(1,1000),5)\n",
    "print(resp)\n"
   ]
  },
  {
   "cell_type": "markdown",
   "metadata": {
    "collapsed": true
   },
   "source": [
    "## Edureka Solution"
   ]
  },
  {
   "cell_type": "code",
   "execution_count": 14,
   "metadata": {},
   "outputs": [
    {
     "name": "stdout",
     "output_type": "stream",
     "text": [
      "[315, 840, 945, 560, 140]\n"
     ]
    }
   ],
   "source": [
    "import random\n",
    "print(random.sample([i for i in range(1,1001) if i%5==0 and i%7==0], 5))"
   ]
  },
  {
   "cell_type": "markdown",
   "metadata": {},
   "source": [
    "14.Write  a  program  to  compute  1/2+2/3+3/4+...+n/n+1  with  a  given  n  input  by console (n>0)."
   ]
  },
  {
   "cell_type": "code",
   "execution_count": 72,
   "metadata": {},
   "outputs": [
    {
     "name": "stdout",
     "output_type": "stream",
     "text": [
      "8\n",
      "6.171031746031746\n"
     ]
    }
   ],
   "source": [
    "n=int(input())\n",
    "sum=0\n",
    "for a in range(1,n+1):\n",
    "    sum+=a/(a+1)\n",
    "print(sum)"
   ]
  },
  {
   "cell_type": "markdown",
   "metadata": {
    "collapsed": true
   },
   "source": [
    "## Edureka Solution"
   ]
  },
  {
   "cell_type": "code",
   "execution_count": 15,
   "metadata": {},
   "outputs": [
    {
     "name": "stdout",
     "output_type": "stream",
     "text": [
      "Enter a number5\n",
      "3.5500000000000003\n"
     ]
    }
   ],
   "source": [
    "n=int(input(\"Enter a number\"))\n",
    "sum=0.0\n",
    "for i in range(1,n+1):\n",
    "    sum += float(float(i)/(i+1))\n",
    "print(sum)\n"
   ]
  }
 ],
 "metadata": {
  "kernelspec": {
   "display_name": "Python 3 (ipykernel)",
   "language": "python",
   "name": "python3"
  },
  "language_info": {
   "codemirror_mode": {
    "name": "ipython",
    "version": 3
   },
   "file_extension": ".py",
   "mimetype": "text/x-python",
   "name": "python",
   "nbconvert_exporter": "python",
   "pygments_lexer": "ipython3",
   "version": "3.9.7"
  }
 },
 "nbformat": 4,
 "nbformat_minor": 2
}
